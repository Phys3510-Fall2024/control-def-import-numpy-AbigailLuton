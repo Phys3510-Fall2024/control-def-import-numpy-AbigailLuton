{
 "cells": [
  {
   "cell_type": "markdown",
   "id": "4b262275-08a9-44a7-857e-3f586ee9f520",
   "metadata": {},
   "source": [
    "# Assignment Submission is Towards the Bottom"
   ]
  },
  {
   "cell_type": "markdown",
   "id": "03d958d7-0c36-454e-b8bf-5e3b3e69e308",
   "metadata": {},
   "source": [
    "## Lists"
   ]
  },
  {
   "cell_type": "code",
   "execution_count": 2,
   "id": "24d666bf-b70a-427e-91f9-f135c1f83471",
   "metadata": {},
   "outputs": [
    {
     "data": {
      "text/plain": [
       "[1, 2, 3, 4, 5, 6]"
      ]
     },
     "execution_count": 2,
     "metadata": {},
     "output_type": "execute_result"
    }
   ],
   "source": [
    "a = [1, 2, 3]\n",
    "b = [4, 5, 6]\n",
    "a + b #Not what we want"
   ]
  },
  {
   "cell_type": "code",
   "execution_count": 3,
   "id": "e5319493-74a4-482e-a763-a1901f795892",
   "metadata": {},
   "outputs": [
    {
     "ename": "TypeError",
     "evalue": "can't multiply sequence by non-int of type 'list'",
     "output_type": "error",
     "traceback": [
      "\u001b[1;31m---------------------------------------------------------------------------\u001b[0m",
      "\u001b[1;31mTypeError\u001b[0m                                 Traceback (most recent call last)",
      "Cell \u001b[1;32mIn[3], line 1\u001b[0m\n\u001b[1;32m----> 1\u001b[0m \u001b[43ma\u001b[49m\u001b[43m \u001b[49m\u001b[38;5;241;43m*\u001b[39;49m\u001b[43m \u001b[49m\u001b[43mb\u001b[49m\n",
      "\u001b[1;31mTypeError\u001b[0m: can't multiply sequence by non-int of type 'list'"
     ]
    }
   ],
   "source": [
    "a * b #intentional error"
   ]
  },
  {
   "cell_type": "code",
   "execution_count": 6,
   "id": "eab359ce-4493-431c-9f81-ea6a9e59bf3a",
   "metadata": {},
   "outputs": [
    {
     "data": {
      "text/plain": [
       "[0, 1, 2]"
      ]
     },
     "execution_count": 6,
     "metadata": {},
     "output_type": "execute_result"
    }
   ],
   "source": [
    "list(range(len(a)))"
   ]
  },
  {
   "cell_type": "code",
   "execution_count": 10,
   "id": "a9f0e3ee-7917-44df-8930-6a2f3b71b28f",
   "metadata": {},
   "outputs": [
    {
     "name": "stdout",
     "output_type": "stream",
     "text": [
      "[4, 10, 18]\n"
     ]
    }
   ],
   "source": [
    "a_plus_b = [a[i] + b[i] for i in list(range(len(a)))]\n",
    "a_dot_b = [a[i] * b[i] for i in list(range(len(a)))]\n",
    "print(a_dot_b)"
   ]
  },
  {
   "cell_type": "markdown",
   "id": "d35e5448-fcff-44ad-9c87-e55cca60bc99",
   "metadata": {},
   "source": [
    "## "
   ]
  },
  {
   "cell_type": "markdown",
   "id": "353cf0a6-8ee8-423e-a7ff-db230f0936b9",
   "metadata": {},
   "source": [
    "## Linear algebra with numpy"
   ]
  },
  {
   "cell_type": "markdown",
   "id": "bc9b3751-cb1e-4c21-a4d4-edd8b0925ef6",
   "metadata": {},
   "source": [
    "We can access numpy by one of the following approaches\n",
    "\n",
    "```python\n",
    "import numpy as np #Recommended\n",
    "from numpy import arrary, dot #useful once we are familiar with numpy\n",
    "from numpy import * #avoid this as it is for more advanced users\n",
    "```"
   ]
  },
  {
   "cell_type": "code",
   "execution_count": 11,
   "id": "4944688d-7163-4bbf-9944-0fad437fa2a1",
   "metadata": {},
   "outputs": [],
   "source": [
    "import numpy as np"
   ]
  },
  {
   "cell_type": "code",
   "execution_count": 16,
   "id": "1b9a2801-4b65-4522-9f40-dccd1d99e30d",
   "metadata": {},
   "outputs": [
    {
     "data": {
      "text/plain": [
       "array([5, 7, 9])"
      ]
     },
     "execution_count": 16,
     "metadata": {},
     "output_type": "execute_result"
    }
   ],
   "source": [
    "a = np.array([1, 2, 3])\n",
    "b= np.array([4, 5, 6])\n",
    "a + b"
   ]
  },
  {
   "cell_type": "code",
   "execution_count": 17,
   "id": "9a65b512-8748-4223-82eb-49363495ac10",
   "metadata": {},
   "outputs": [
    {
     "name": "stdout",
     "output_type": "stream",
     "text": [
      "32\n"
     ]
    }
   ],
   "source": [
    "print(np.dot(a,b))"
   ]
  },
  {
   "cell_type": "markdown",
   "id": "ee701d6d-b927-418a-b60c-ebb821d3d4cd",
   "metadata": {},
   "source": [
    "## Physics notes\n",
    "\n",
    "Energy for simple harmonic oscillator\n",
    "    u=1/2 * kx^2\n",
    "\n",
    "sqrt(k/m) = omega\n",
    "\n",
    "Energy with dipole-field coupling\n",
    "    u=1/2 * kx^2 +Qx*dot*E\n",
    "\n",
    "### Assignment Instructions\n",
    "\n",
    "Categorize objects via vectors and matrices\n",
    "\n",
    "##### Four objects to classify\n",
    "\n",
    "All are described by direction and amplitude; vector-like objects\n",
    "\n",
    "    1. scalar: constant\n",
    "    2. polar vector: amplitude and angle ; i.e., z-hat\n",
    "    3. axial (or psuedo) vector: x-hat*cross*y-hat\n",
    "    4. psuedoscalar: zhat*dot*(xhat*yhat)\n",
    "\n",
    "### Symmetry operations\n",
    "\n",
    "    1. E: Identity: (x, y, z) --> (x, y, z)\n",
    "    2. I: Spatial inversion: (x, y, z) --> (-x, -y, -z)\n",
    "    3. mx: Mirror in yz-plane: (x, y, z) --> (-x, y, z)\n",
    "    4. c2 (2pi/2 rotation): 180 degree rotation about x: (x, y, z) --> (x, -y, -z)\n",
    "\n",
    "### Applying sym ops\n",
    "\n",
    "##### polar vector: zhat\n",
    "    E: no change\n",
    "    I: -zhat\n",
    "    mx: zhat\n",
    "    c2: -zhat\n",
    "\n",
    "#### axial vector: x x y\n",
    "    E: no change\n",
    "    I: no change\n",
    "    mx: -(x x y)\n",
    "    c2: -(x x y)\n",
    "\n",
    "#### Group op table\n",
    "                   E  I M  C\n",
    "scalar             1  1 1  1\n",
    "pol vec            1 -1 1 -1\n",
    "psuedo vec         1  1 -1 -1\n",
    "psuedo scalar      1 -1 -1 1\n",
    "\n",
    "#### Potential energy\n",
    "    u = 1/2 sum (ki * qi)^2) + ZQ2E + C111*Q1^3 + C122Q1Q2^2 + C133Q1Q3^3 + C144Q1Q4^2 + C234Q2Q3Q4\n",
    "    \n",
    "    Is (QiQj, i is not equal to j) allowed?\n",
    "    This is not allowed."
   ]
  },
  {
   "cell_type": "markdown",
   "id": "f2cc70e0-c3fb-4061-8b80-2396e1269d51",
   "metadata": {},
   "source": [
    "# Assignment submission"
   ]
  },
  {
   "cell_type": "markdown",
   "id": "2e826448-4717-45ed-9162-608ff66d3fd9",
   "metadata": {},
   "source": [
    "## Identity Vector"
   ]
  },
  {
   "cell_type": "code",
   "execution_count": 32,
   "id": "d374d777-a54d-4754-a75a-2d088edf8347",
   "metadata": {},
   "outputs": [],
   "source": [
    "import numpy as np\n",
    "#identity = np.array(\n",
    "#         ([ 1, 0, 0]\n",
    "#         ,[ 0, 1, 0]\n",
    "#         ,[ 0, 0, 1]]\n",
    "#)\n",
    "a = np.array([1, 0, 0])\n",
    "b = np.array([0, 1, 0])\n",
    "c = np.array([0, 0, 1])"
   ]
  },
  {
   "cell_type": "code",
   "execution_count": 33,
   "id": "f4038c0c-665a-4cc4-9285-039f8ffdb578",
   "metadata": {},
   "outputs": [
    {
     "name": "stdout",
     "output_type": "stream",
     "text": [
      "0\n",
      "1\n",
      "[0 0 1]\n",
      "[0 0 1]\n"
     ]
    }
   ],
   "source": [
    "#E symmetries, already defined identity matrix above\n",
    "id_scalar = np.dot(a, b) \n",
    "id_pseudo_scalar = np.dot(c, np.cross(a, b)) \n",
    "id_polar_vec = c \n",
    "id_axial_vec = np.cross(a, b)\n",
    "print(id_scalar)\n",
    "print(id_pseudo_scalar)\n",
    "print(id_polar_vec)\n",
    "print(id_axial_vec)\n",
    "#The resuls show that all identity symmetries are even"
   ]
  },
  {
   "cell_type": "markdown",
   "id": "c6cc35db-aca5-47c3-9344-e7d6f636f071",
   "metadata": {},
   "source": [
    "## Inversion vectors"
   ]
  },
  {
   "cell_type": "code",
   "execution_count": 34,
   "id": "52935216-1868-4b31-82e2-8bbc059860b3",
   "metadata": {},
   "outputs": [
    {
     "name": "stdout",
     "output_type": "stream",
     "text": [
      "0\n",
      "-1\n",
      "[ 0  0 -1]\n",
      "[0 0 1]\n"
     ]
    }
   ],
   "source": [
    "import numpy as np\n",
    "#Defining inversion matrix\n",
    "a = np.array([-1, 0, 0])\n",
    "b = np.array([0, -1, 0])\n",
    "c = np.array([0, 0, -1])\n",
    "#implementing symmetries\n",
    "id_scalar = np.dot(a, b) \n",
    "id_pseudo_scalar = np.dot(c, np.cross(a, b)) \n",
    "id_polar_vec = c \n",
    "id_axial_vec = np.cross(a, b)\n",
    "print(id_scalar) #even\n",
    "print(id_pseudo_scalar) #odd\n",
    "print(id_polar_vec) #odd\n",
    "print(id_axial_vec) #even"
   ]
  },
  {
   "cell_type": "markdown",
   "id": "d5c619dc-7e9a-41e8-a27c-1e690442db5f",
   "metadata": {},
   "source": [
    "## Mirror z"
   ]
  },
  {
   "cell_type": "code",
   "execution_count": 35,
   "id": "3668f9c6-dadd-4199-b78b-35e717021ffa",
   "metadata": {},
   "outputs": [
    {
     "name": "stdout",
     "output_type": "stream",
     "text": [
      "0\n",
      "-1\n",
      "[0 0 1]\n",
      "[ 0  0 -1]\n"
     ]
    }
   ],
   "source": [
    "import numpy as np\n",
    "#Defining mirror_z matrix\n",
    "a = np.array([-1, 0, 0])\n",
    "b = np.array([0, 1, 0])\n",
    "c = np.array([0, 0, 1])\n",
    "#implementing symmetries\n",
    "id_scalar = np.dot(a, b) \n",
    "id_pseudo_scalar = np.dot(c, np.cross(a, b)) \n",
    "id_polar_vec = c \n",
    "id_axial_vec = np.cross(a, b)\n",
    "print(id_scalar) #even\n",
    "print(id_pseudo_scalar) #odd\n",
    "print(id_polar_vec) #even\n",
    "print(id_axial_vec) #odd"
   ]
  },
  {
   "cell_type": "markdown",
   "id": "8b4b1fa3-6f76-4728-985a-3f283337065b",
   "metadata": {},
   "source": [
    "## Mirror y"
   ]
  },
  {
   "cell_type": "code",
   "execution_count": 36,
   "id": "80f94491-3070-413c-b918-4278fa7f62f6",
   "metadata": {},
   "outputs": [
    {
     "name": "stdout",
     "output_type": "stream",
     "text": [
      "0\n",
      "-1\n",
      "[0 0 1]\n",
      "[ 0  0 -1]\n"
     ]
    }
   ],
   "source": [
    "import numpy as np\n",
    "#Defining mirror_y matrix\n",
    "a = np.array([1, 0, 0])\n",
    "b = np.array([0, -1, 0])\n",
    "c = np.array([0, 0, 1])\n",
    "#implementing symmetries\n",
    "id_scalar = np.dot(a, b) \n",
    "id_pseudo_scalar = np.dot(c, np.cross(a, b)) \n",
    "id_polar_vec = c \n",
    "id_axial_vec = np.cross(a, b)\n",
    "print(id_scalar) #even\n",
    "print(id_pseudo_scalar) #odd\n",
    "print(id_polar_vec) #even\n",
    "print(id_axial_vec) #odd"
   ]
  },
  {
   "cell_type": "markdown",
   "id": "f4c7e450-34ef-4c51-b6f2-ebe6866ecc60",
   "metadata": {},
   "source": [
    "## Rotation by 180 Degrees"
   ]
  },
  {
   "cell_type": "code",
   "execution_count": 37,
   "id": "a1fbd3d8-c7d5-4591-8998-29139037876a",
   "metadata": {},
   "outputs": [
    {
     "name": "stdout",
     "output_type": "stream",
     "text": [
      "0\n",
      "1\n",
      "[ 0  0 -1]\n",
      "[ 0  0 -1]\n"
     ]
    }
   ],
   "source": [
    "import numpy as np\n",
    "#Defining rot_180 matrix\n",
    "a = np.array([1, 0, 0])\n",
    "b = np.array([0, -1, 0])\n",
    "c = np.array([0, 0, -1])\n",
    "#implementing symmetries\n",
    "id_scalar = np.dot(a, b) \n",
    "id_pseudo_scalar = np.dot(c, np.cross(a, b)) \n",
    "id_polar_vec = c \n",
    "id_axial_vec = np.cross(a, b)\n",
    "print(id_scalar) #even\n",
    "print(id_pseudo_scalar) #even\n",
    "print(id_polar_vec) #odd\n",
    "print(id_axial_vec) #odd"
   ]
  },
  {
   "cell_type": "markdown",
   "id": "32862c2a-be08-4c30-90e4-65e742b01df8",
   "metadata": {},
   "source": [
    "## Symmetries (Odd or Even)\n",
    "### -1--odd\n",
    "### 1--even"
   ]
  },
  {
   "cell_type": "markdown",
   "id": "6365d960-2338-469d-96a7-39b3d8968ef6",
   "metadata": {},
   "source": [
    "|1D Object | Identity | Inversion | Mirror Z | Mirror Y | Rotation by 180 on X|\n",
    "|---|---|---|---|---|---|\n",
    "| Scalar | 1 | 1 | 1 | 1 | 1 |\n",
    "| Psuedo-Scalar | 1 | -1 | -1 | -1 | 1 |\n",
    "| Polar Vector | 1 | -1 | 1 | 1 | -1 |\n",
    "| Axial Vector | 1 | 1 | -1 | -1 | -1 |"
   ]
  },
  {
   "cell_type": "code",
   "execution_count": null,
   "id": "5af858af-652c-4992-8500-3d31071a175b",
   "metadata": {},
   "outputs": [],
   "source": []
  }
 ],
 "metadata": {
  "kernelspec": {
   "display_name": "Python 3 (ipykernel)",
   "language": "python",
   "name": "python3"
  },
  "language_info": {
   "codemirror_mode": {
    "name": "ipython",
    "version": 3
   },
   "file_extension": ".py",
   "mimetype": "text/x-python",
   "name": "python",
   "nbconvert_exporter": "python",
   "pygments_lexer": "ipython3",
   "version": "3.9.19"
  }
 },
 "nbformat": 4,
 "nbformat_minor": 5
}
